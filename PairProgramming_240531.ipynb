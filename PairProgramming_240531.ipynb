{
  "nbformat": 4,
  "nbformat_minor": 0,
  "metadata": {
    "colab": {
      "provenance": [],
      "include_colab_link": true
    },
    "kernelspec": {
      "name": "python3",
      "display_name": "Python 3"
    },
    "language_info": {
      "name": "python"
    }
  },
  "cells": [
    {
      "cell_type": "markdown",
      "metadata": {
        "id": "view-in-github",
        "colab_type": "text"
      },
      "source": [
        "<a href=\"https://colab.research.google.com/github/veroniquecho/quest_repo/blob/main/PairProgramming_240531.ipynb\" target=\"_parent\"><img src=\"https://colab.research.google.com/assets/colab-badge.svg\" alt=\"Open In Colab\"/></a>"
      ]
    },
    {
      "cell_type": "code",
      "execution_count": null,
      "metadata": {
        "id": "j0kcrKDAMsgO",
        "colab": {
          "base_uri": "https://localhost:8080/"
        },
        "outputId": "bf05070f-4483-42d1-c487-3cdee3c2587a"
      },
      "outputs": [
        {
          "output_type": "stream",
          "name": "stdout",
          "text": [
            "이자 5원이 지급되었습니다.\n",
            "[입금] 시간: 2024-05-31 03:40:33, 금액: 100, 잔액: 100\n",
            "[입금] 시간: 2024-05-31 03:40:33, 금액: 100, 잔액: 200\n",
            "[입금] 시간: 2024-05-31 03:40:33, 금액: 100, 잔액: 300\n",
            "[입금] 시간: 2024-05-31 03:40:33, 금액: 100, 잔액: 400\n",
            "[입금] 시간: 2024-05-31 03:40:33, 금액: 100, 잔액: 500\n",
            "[이자] 시간: 2024-05-31 03:40:33, 금액: 5, 잔액: 505\n",
            "[입금] 시간: 2024-05-31 03:40:33, 금액: 100, 잔액: 605\n",
            "은행이름: SC은행, 예금주: hello, 계좌번호: 896-70-661130, 잔고: 605원\n"
          ]
        }
      ],
      "source": [
        "from random import randrange\n",
        "from datetime import datetime\n",
        "\n",
        "\n",
        "class Account:\n",
        "    T_TYPE_DEPOSIT = 'd'\n",
        "    T_TYPE_WITHDRAW = 'w'\n",
        "    T_TYPE_INTEREST = 'i'\n",
        "    BANK_NAME = \"SC은행\"\n",
        "\n",
        "    def __init__(self, acc_owner, init_bal):\n",
        "        \"\"\"계좌를 소유자의 이름, 초기 잔고 및 기타 세부 정보로 초기화합니다.\"\"\"\n",
        "        self.acc_owner = acc_owner\n",
        "        self.bal = init_bal\n",
        "        self.acc_num = \"{:03d}-{:02d}-{:06d}\".format(\n",
        "            randrange(0, 1000), randrange(0, 100), randrange(0, 1000000)\n",
        "        )\n",
        "        self.d_num = 0\n",
        "        self.his = []\n",
        "\n",
        "    def deposit(self, d_amount):\n",
        "        \"\"\"계좌에 돈을 입금합니다.\"\"\"\n",
        "        if d_amount < 1:\n",
        "            print(\"입금은 최소 1원 이상만 가능합니다.\")\n",
        "        else:\n",
        "            self.bal += d_amount\n",
        "            self.d_num += 1\n",
        "            self._add_history(Account.T_TYPE_DEPOSIT, d_amount, self.bal)\n",
        "            if self.d_num % 5 == 0:\n",
        "                self.apply_interest()\n",
        "\n",
        "    def withdraw(self, w_amount):\n",
        "        \"\"\"계좌에서 돈을 출금합니다.\"\"\"\n",
        "        if w_amount > self.bal:\n",
        "            print(\"계좌 잔고 이상으로 출금할 수 없습니다.\")\n",
        "        else:\n",
        "            self.bal -= w_amount\n",
        "            self._add_history(Account.T_TYPE_WITHDRAW, -w_amount, self.bal)\n",
        "\n",
        "    def display_info(self):\n",
        "        \"\"\"계좌 정보를 표시합니다.\"\"\"\n",
        "        print(\n",
        "            f\"은행이름: {Account.BANK_NAME}, 예금주: {self.acc_owner}, \"\n",
        "            f\"계좌번호: {self.acc_num}, 잔고: {format(self.bal, ',')}원\"\n",
        "        )\n",
        "\n",
        "    def apply_interest(self):\n",
        "        \"\"\"계좌에 이자를 적용합니다.\"\"\"\n",
        "        interest = int(self.bal * 0.01)\n",
        "        self.bal += interest\n",
        "        print(f\"이자 {format(interest, ',')}원이 지급되었습니다.\")\n",
        "        self._add_history(Account.T_TYPE_INTEREST, interest, self.bal)\n",
        "\n",
        "    def deposit_history(self):\n",
        "        \"\"\"입금 내역을 표시합니다.\"\"\"\n",
        "        for history in self.his:\n",
        "            if history[\"t_type\"] == Account.T_TYPE_DEPOSIT:\n",
        "                self._display_history(history)\n",
        "\n",
        "    def withdraw_history(self):\n",
        "        \"\"\"출금 내역을 표시합니다.\"\"\"\n",
        "        for history in self.his:\n",
        "            if history[\"t_type\"] == Account.T_TYPE_WITHDRAW:\n",
        "                self._display_history(history)\n",
        "\n",
        "    def all_history(self):\n",
        "        \"\"\"모든 거래 내역을 표시합니다.\"\"\"\n",
        "        for history in self.his:\n",
        "            self._display_history(history)\n",
        "\n",
        "    def big_money(self):\n",
        "        \"\"\"큰 금액을 당첨되는 시뮬레이션을 합니다.\"\"\"\n",
        "        lucky = randrange(0, 100000000)\n",
        "        print(\n",
        "            f\"축하합니다! {format(lucky, ',')}원에 당첨되었습니다! \"\n",
        "            \"당첨된 금액은 세금을 제하고 입금되었습니다.\"\n",
        "        )\n",
        "        self.bal += int(lucky * 0.78)\n",
        "\n",
        "    def _display_history(self, history):\n",
        "        \"\"\"단일 거래 내역을 표시합니다.\"\"\"\n",
        "        if history[\"t_type\"] == Account.T_TYPE_DEPOSIT:\n",
        "          print(\"[입금] \", end=\"\")\n",
        "        elif history[\"t_type\"] == Account.T_TYPE_WITHDRAW:\n",
        "          print(\"[출금] \", end=\"\")\n",
        "        else:\n",
        "          print(\"[이자] \", end=\"\")\n",
        "\n",
        "        print(\n",
        "            f\"시간: {history['time'].strftime('%Y-%m-%d %H:%M:%S')}, \"\n",
        "            f\"금액: {history['amount']}, 잔액: {format(history['balance'], ',')}\"\n",
        "        )\n",
        "\n",
        "    def _add_history(self, t_type, amount, bal):\n",
        "        \"\"\"거래를 내역에 추가합니다.\"\"\"\n",
        "        self.his.append(\n",
        "            {'t_type': t_type, 'time': datetime.now(), 'amount': amount,\n",
        "             'balance': bal}\n",
        "        )\n",
        "\n",
        "# 마이너스 통장 개설!\n",
        "class OverdraftAccount(Account):\n",
        "  def __init__(self, acc_owner, init_bal):\n",
        "    super().__init__(acc_owner, init_bal)\n",
        "\n",
        "  def withdraw(self, w_amount):\n",
        "    \"\"\"계좌에서 돈을 출금합니다.\"\"\"\n",
        "    self.bal -= w_amount\n",
        "    self._add_history(Account.T_TYPE_WITHDRAW, -w_amount, self.bal)\n",
        "\n"
      ]
    },
    {
      "cell_type": "code",
      "source": [],
      "metadata": {
        "id": "PStR2iTddoG1"
      },
      "execution_count": null,
      "outputs": []
    }
  ]
}